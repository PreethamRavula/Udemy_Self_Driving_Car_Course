{
 "cells": [
  {
   "cell_type": "markdown",
   "id": "d24f0fda",
   "metadata": {},
   "source": [
    "# Operators:"
   ]
  },
  {
   "cell_type": "code",
   "execution_count": 2,
   "id": "f7ec7df1",
   "metadata": {},
   "outputs": [
    {
     "data": {
      "text/plain": [
       "2"
      ]
     },
     "execution_count": 2,
     "metadata": {},
     "output_type": "execute_result"
    }
   ],
   "source": [
    "(1 + 1)"
   ]
  },
  {
   "cell_type": "code",
   "execution_count": 4,
   "id": "2e22178f",
   "metadata": {},
   "outputs": [
    {
     "data": {
      "text/plain": [
       "1"
      ]
     },
     "execution_count": 4,
     "metadata": {},
     "output_type": "execute_result"
    }
   ],
   "source": [
    "(2 - 1)"
   ]
  },
  {
   "cell_type": "code",
   "execution_count": 5,
   "id": "229a532e",
   "metadata": {},
   "outputs": [
    {
     "data": {
      "text/plain": [
       "32"
      ]
     },
     "execution_count": 5,
     "metadata": {},
     "output_type": "execute_result"
    }
   ],
   "source": [
    "(8*4)"
   ]
  },
  {
   "cell_type": "code",
   "execution_count": 6,
   "id": "ead9d3d7",
   "metadata": {},
   "outputs": [
    {
     "data": {
      "text/plain": [
       "4.0"
      ]
     },
     "execution_count": 6,
     "metadata": {},
     "output_type": "execute_result"
    }
   ],
   "source": [
    "(20/5)"
   ]
  },
  {
   "cell_type": "code",
   "execution_count": 7,
   "id": "cb95b393",
   "metadata": {},
   "outputs": [
    {
     "data": {
      "text/plain": [
       "38"
      ]
     },
     "execution_count": 7,
     "metadata": {},
     "output_type": "execute_result"
    }
   ],
   "source": [
    "(6 + 3 * 9 + 5)"
   ]
  },
  {
   "cell_type": "code",
   "execution_count": 8,
   "id": "d04f78a1",
   "metadata": {},
   "outputs": [
    {
     "data": {
      "text/plain": [
       "2"
      ]
     },
     "execution_count": 8,
     "metadata": {},
     "output_type": "execute_result"
    }
   ],
   "source": [
    "14 % 3"
   ]
  },
  {
   "cell_type": "code",
   "execution_count": 9,
   "id": "ccf4b996",
   "metadata": {},
   "outputs": [
    {
     "data": {
      "text/plain": [
       "16"
      ]
     },
     "execution_count": 9,
     "metadata": {},
     "output_type": "execute_result"
    }
   ],
   "source": [
    "4**2"
   ]
  },
  {
   "cell_type": "code",
   "execution_count": 10,
   "id": "41143b1a",
   "metadata": {},
   "outputs": [
    {
     "data": {
      "text/plain": [
       "3"
      ]
     },
     "execution_count": 10,
     "metadata": {},
     "output_type": "execute_result"
    }
   ],
   "source": [
    "15//4"
   ]
  },
  {
   "cell_type": "markdown",
   "id": "db2aaf9f",
   "metadata": {},
   "source": [
    "# Variables:"
   ]
  },
  {
   "cell_type": "code",
   "execution_count": 14,
   "id": "b79de3fe",
   "metadata": {},
   "outputs": [
    {
     "name": "stdout",
     "output_type": "stream",
     "text": [
      "25 Female jane\n"
     ]
    }
   ],
   "source": [
    "age = 25\n",
    "gender = 'Female'\n",
    "name = 'jane'\n",
    "print(age, gender, name)"
   ]
  },
  {
   "cell_type": "code",
   "execution_count": 15,
   "id": "af2f83ed",
   "metadata": {},
   "outputs": [
    {
     "data": {
      "text/plain": [
       "'AB-'"
      ]
     },
     "execution_count": 15,
     "metadata": {},
     "output_type": "execute_result"
    }
   ],
   "source": [
    "blood_type = 'AB-'\n",
    "blood_type"
   ]
  },
  {
   "cell_type": "code",
   "execution_count": 16,
   "id": "ac4bb738",
   "metadata": {},
   "outputs": [
    {
     "data": {
      "text/plain": [
       "30"
      ]
     },
     "execution_count": 16,
     "metadata": {},
     "output_type": "execute_result"
    }
   ],
   "source": [
    "age = age + 5\n",
    "age"
   ]
  },
  {
   "cell_type": "code",
   "execution_count": 17,
   "id": "c6fafee2",
   "metadata": {},
   "outputs": [
    {
     "data": {
      "text/plain": [
       "25"
      ]
     },
     "execution_count": 17,
     "metadata": {},
     "output_type": "execute_result"
    }
   ],
   "source": [
    "age -= 5\n",
    "age"
   ]
  },
  {
   "cell_type": "markdown",
   "id": "5b958406",
   "metadata": {},
   "source": [
    "# Numeric Data Types: "
   ]
  },
  {
   "cell_type": "code",
   "execution_count": 19,
   "id": "c7c795f2",
   "metadata": {},
   "outputs": [
    {
     "name": "stdout",
     "output_type": "stream",
     "text": [
      "2.3333333333333335\n",
      "2\n"
     ]
    }
   ],
   "source": [
    "x = 7\n",
    "y = 3\n",
    "z = x/y\n",
    "print(z)\n",
    "print(int(z))"
   ]
  },
  {
   "cell_type": "code",
   "execution_count": 20,
   "id": "f34ffbc2",
   "metadata": {},
   "outputs": [
    {
     "name": "stdout",
     "output_type": "stream",
     "text": [
      "<class 'float'>\n"
     ]
    }
   ],
   "source": [
    "print(type(z))"
   ]
  },
  {
   "cell_type": "code",
   "execution_count": 21,
   "id": "934bbacd",
   "metadata": {},
   "outputs": [
    {
     "data": {
      "text/plain": [
       "5.5"
      ]
     },
     "execution_count": 21,
     "metadata": {},
     "output_type": "execute_result"
    }
   ],
   "source": [
    "2 + 3.5"
   ]
  },
  {
   "cell_type": "markdown",
   "id": "f4489b2a",
   "metadata": {},
   "source": [
    "# String Data Types:"
   ]
  },
  {
   "cell_type": "code",
   "execution_count": 22,
   "id": "3287dfb2",
   "metadata": {},
   "outputs": [
    {
     "name": "stdout",
     "output_type": "stream",
     "text": [
      "Pie\n",
      "<class 'str'>\n"
     ]
    }
   ],
   "source": [
    "food = 'Pie'\n",
    "print(food)\n",
    "print(type(food))"
   ]
  },
  {
   "cell_type": "code",
   "execution_count": 24,
   "id": "7430661b",
   "metadata": {},
   "outputs": [
    {
     "name": "stdout",
     "output_type": "stream",
     "text": [
      "\"Hey whatsup\" said the frog\n"
     ]
    }
   ],
   "source": [
    "sentence = \"\\\"Hey whatsup\\\" said the frog\"\n",
    "print(sentence)"
   ]
  },
  {
   "cell_type": "code",
   "execution_count": 29,
   "id": "cbde32f8",
   "metadata": {},
   "outputs": [
    {
     "name": "stdout",
     "output_type": "stream",
     "text": [
      "Pie, ice cream\n",
      "Pie, ice creamPie, ice creamPie, ice creamPie, ice creamPie, ice creamPie, ice creamPie, ice creamPie, ice creamPie, ice creamPie, ice cream\n"
     ]
    }
   ],
   "source": [
    "dessert = 'ice cream'\n",
    "meal = food + \", \" + dessert\n",
    "print(meal)\n",
    "print(meal * 10)"
   ]
  },
  {
   "cell_type": "code",
   "execution_count": 30,
   "id": "3bd77d54",
   "metadata": {},
   "outputs": [
    {
     "name": "stdout",
     "output_type": "stream",
     "text": [
      "14\n"
     ]
    }
   ],
   "source": [
    "print(len(meal))"
   ]
  },
  {
   "cell_type": "markdown",
   "id": "fe16b7f8",
   "metadata": {},
   "source": [
    "# Boolean Types:"
   ]
  },
  {
   "cell_type": "code",
   "execution_count": 31,
   "id": "2b289b84",
   "metadata": {},
   "outputs": [],
   "source": [
    "is_this_true = True\n",
    "is_this_false = False"
   ]
  },
  {
   "cell_type": "code",
   "execution_count": 37,
   "id": "039346f9",
   "metadata": {},
   "outputs": [
    {
     "name": "stdout",
     "output_type": "stream",
     "text": [
      "True\n",
      "True\n"
     ]
    }
   ],
   "source": [
    "comparision = 4 > 2 and 3 < 4\n",
    "print(comparision)\n",
    "water = False\n",
    "fire = not water\n",
    "print(fire)"
   ]
  },
  {
   "cell_type": "markdown",
   "id": "26c53401",
   "metadata": {},
   "source": [
    "# Methods:"
   ]
  },
  {
   "cell_type": "code",
   "execution_count": 38,
   "id": "e0e8bd0d",
   "metadata": {},
   "outputs": [
    {
     "name": "stdout",
     "output_type": "stream",
     "text": [
      "PREETHAM\n"
     ]
    }
   ],
   "source": [
    "name = 'Preetham'\n",
    "print(name.upper())"
   ]
  },
  {
   "cell_type": "code",
   "execution_count": 39,
   "id": "9b502eaf",
   "metadata": {},
   "outputs": [
    {
     "name": "stdout",
     "output_type": "stream",
     "text": [
      "['Fantastic', 'Beasts', 'and', 'Where', 'to', 'Find', 'Them']\n"
     ]
    }
   ],
   "source": [
    "movie = \"Fantastic Beasts and Where to Find Them\"\n",
    "split_movie = movie.split()\n",
    "print(split_movie)"
   ]
  },
  {
   "cell_type": "markdown",
   "id": "6430d416",
   "metadata": {},
   "source": [
    "# Lists:"
   ]
  },
  {
   "cell_type": "code",
   "execution_count": 40,
   "id": "f7b72d32",
   "metadata": {},
   "outputs": [
    {
     "name": "stdout",
     "output_type": "stream",
     "text": [
      "John\n"
     ]
    }
   ],
   "source": [
    "names = ['John', 'James', 'Jeff']\n",
    "print(names[0])\n"
   ]
  },
  {
   "cell_type": "code",
   "execution_count": 41,
   "id": "118c1cad",
   "metadata": {},
   "outputs": [
    {
     "name": "stdout",
     "output_type": "stream",
     "text": [
      "True\n"
     ]
    }
   ],
   "source": [
    "mixed = [1, 'fruit', True, 2.5]\n",
    "print(mixed[2])"
   ]
  },
  {
   "cell_type": "code",
   "execution_count": 42,
   "id": "bb9b6180",
   "metadata": {},
   "outputs": [
    {
     "name": "stdout",
     "output_type": "stream",
     "text": [
      "2.5\n",
      "2.5\n",
      "fruit\n"
     ]
    }
   ],
   "source": [
    "length = len(mixed)\n",
    "print(mixed[length - 1])\n",
    "print(mixed[-1])\n",
    "print(mixed[-3])"
   ]
  },
  {
   "cell_type": "markdown",
   "id": "d99ce18a",
   "metadata": {},
   "source": [
    "# Slicing:"
   ]
  },
  {
   "cell_type": "code",
   "execution_count": 43,
   "id": "e7bda4f9",
   "metadata": {},
   "outputs": [],
   "source": [
    "ordered_numbers = [0, 1, 2, 3, 4, 5, 6, 7, 8, 9, 10]"
   ]
  },
  {
   "cell_type": "code",
   "execution_count": 46,
   "id": "d0c558f5",
   "metadata": {},
   "outputs": [
    {
     "name": "stdout",
     "output_type": "stream",
     "text": [
      "[2, 3, 4, 5, 6, 7, 8, 9]\n",
      "[0, 1, 2, 3, 4, 5, 6, 7, 8]\n",
      "[0, 1, 2, 3, 4, 5, 6, 7, 8, 9]\n"
     ]
    }
   ],
   "source": [
    "print(ordered_numbers[2:10])\n",
    "print(ordered_numbers[:9])\n",
    "print(ordered_numbers[:-1])"
   ]
  },
  {
   "cell_type": "code",
   "execution_count": 50,
   "id": "5bdd04a8",
   "metadata": {},
   "outputs": [
    {
     "name": "stdout",
     "output_type": "stream",
     "text": [
      "[2, 4, 6, 8, 10, 12, 14, 16, 18, 20, 22, 24, 26, 28, 30, 32, 34, 36, 38, 40, 42, 44, 46, 48, 50, 52, 54, 56, 58, 60, 62, 64, 66, 68, 70, 72, 74, 76, 78, 80, 82, 84, 86, 88, 90, 92, 94, 96, 98]\n"
     ]
    }
   ],
   "source": [
    "print(list(range(2,100,2)))"
   ]
  },
  {
   "cell_type": "code",
   "execution_count": 51,
   "id": "443e97ad",
   "metadata": {},
   "outputs": [
    {
     "name": "stdout",
     "output_type": "stream",
     "text": [
      "e Witche\n"
     ]
    }
   ],
   "source": [
    "show = 'The Witcher'\n",
    "print(show[2:-1])"
   ]
  },
  {
   "cell_type": "markdown",
   "id": "1e5452f8",
   "metadata": {},
   "source": [
    "# Membership Operators: "
   ]
  },
  {
   "cell_type": "code",
   "execution_count": 54,
   "id": "c7aebd94",
   "metadata": {},
   "outputs": [
    {
     "name": "stdout",
     "output_type": "stream",
     "text": [
      "False\n",
      "True\n",
      "False\n"
     ]
    }
   ],
   "source": [
    "months = ['January', 'February', 'March']\n",
    "print('June' in months)\n",
    "print('January' in months)\n",
    "print('January' not in months)"
   ]
  },
  {
   "cell_type": "markdown",
   "id": "b10426d3",
   "metadata": {},
   "source": [
    "# Mutability:"
   ]
  },
  {
   "cell_type": "code",
   "execution_count": 55,
   "id": "e50314a0",
   "metadata": {},
   "outputs": [
    {
     "name": "stdout",
     "output_type": "stream",
     "text": [
      "['Milk', 'Toothpaste', 'Vegetables', 'Soft Drinks']\n"
     ]
    }
   ],
   "source": [
    "groceries = ['Milk', 'Chips', 'Vegetables', 'Soft Drinks']\n",
    "groceries[1] = 'Toothpaste'\n",
    "print(groceries)"
   ]
  },
  {
   "cell_type": "code",
   "execution_count": 59,
   "id": "a3f3fcff",
   "metadata": {},
   "outputs": [
    {
     "name": "stdout",
     "output_type": "stream",
     "text": [
      "Captain Arerica\n"
     ]
    }
   ],
   "source": [
    "title = 'Captain America'\n",
    "#title[9] = 'r'\n",
    "new_title = title[:9] + \"r\" + title[10:]\n",
    "print(new_title)"
   ]
  },
  {
   "cell_type": "code",
   "execution_count": 60,
   "id": "7f2dddf3",
   "metadata": {},
   "outputs": [
    {
     "name": "stdout",
     "output_type": "stream",
     "text": [
      "Tiger\n",
      "Lion\n"
     ]
    }
   ],
   "source": [
    "animal = 'Lion'\n",
    "other_animal = animal\n",
    "animal = 'Tiger'\n",
    "print(animal)\n",
    "print(other_animal)"
   ]
  },
  {
   "cell_type": "code",
   "execution_count": 61,
   "id": "507022d8",
   "metadata": {},
   "outputs": [
    {
     "name": "stdout",
     "output_type": "stream",
     "text": [
      "tomato\n",
      "['apple', 'tomato', 'kiwi', 'peach']\n"
     ]
    }
   ],
   "source": [
    "fruits = ['apple', 'orange', 'kiwi', 'peach']\n",
    "vegetables = fruits\n",
    "fruits[1] = 'tomato'\n",
    "print(fruits[1])\n",
    "print(vegetables)\n",
    "          "
   ]
  },
  {
   "cell_type": "markdown",
   "id": "b86c3a61",
   "metadata": {},
   "source": [
    "# List Methods and Functions:"
   ]
  },
  {
   "cell_type": "code",
   "execution_count": 62,
   "id": "c7d9c34d",
   "metadata": {},
   "outputs": [
    {
     "name": "stdout",
     "output_type": "stream",
     "text": [
      "6\n"
     ]
    }
   ],
   "source": [
    "numbers = [1, 2, 3, 5, 7, 8]\n",
    "print(len(numbers))"
   ]
  },
  {
   "cell_type": "code",
   "execution_count": 66,
   "id": "28548160",
   "metadata": {},
   "outputs": [
    {
     "name": "stdout",
     "output_type": "stream",
     "text": [
      "[1, 2, 3, 5, 7, 8]\n"
     ]
    }
   ],
   "source": [
    "sorted_numbers = sorted(numbers)\n",
    "print(sorted_numbers)"
   ]
  },
  {
   "cell_type": "code",
   "execution_count": 63,
   "id": "4637bfb5",
   "metadata": {},
   "outputs": [
    {
     "data": {
      "text/plain": [
       "8"
      ]
     },
     "execution_count": 63,
     "metadata": {},
     "output_type": "execute_result"
    }
   ],
   "source": [
    "max(numbers)"
   ]
  },
  {
   "cell_type": "code",
   "execution_count": 67,
   "id": "0207e3ee",
   "metadata": {},
   "outputs": [
    {
     "name": "stdout",
     "output_type": "stream",
     "text": [
      "sprite\n",
      "coke\n",
      "['coke', 'fanta', 'pepsi', 'sprite']\n"
     ]
    }
   ],
   "source": [
    "drinks = ['coke', 'pepsi', 'sprite', 'fanta']\n",
    "print(max(drinks))\n",
    "print(min(drinks))\n",
    "sorted_drinks = sorted(drinks)\n",
    "print(sorted_drinks)"
   ]
  },
  {
   "cell_type": "code",
   "execution_count": 68,
   "id": "e1a5d0ff",
   "metadata": {},
   "outputs": [
    {
     "data": {
      "text/plain": [
       "'My Name is preetham'"
      ]
     },
     "execution_count": 68,
     "metadata": {},
     "output_type": "execute_result"
    }
   ],
   "source": [
    "' '.join(['My', 'Name', 'is', 'preetham'])"
   ]
  },
  {
   "cell_type": "code",
   "execution_count": 69,
   "id": "667206cb",
   "metadata": {},
   "outputs": [
    {
     "name": "stdout",
     "output_type": "stream",
     "text": [
      "This movie was really fun to watch\n"
     ]
    }
   ],
   "source": [
    "print('This {} was really {} to {}'.format('movie', 'fun', 'watch'))"
   ]
  },
  {
   "cell_type": "code",
   "execution_count": 72,
   "id": "0a3ac43c",
   "metadata": {},
   "outputs": [
    {
     "name": "stdout",
     "output_type": "stream",
     "text": [
      "['coke', 'pepsi', 'sprite', 'fanta', 'Gatorade']\n"
     ]
    }
   ],
   "source": [
    "drinks.append('Gatorade')\n",
    "print(drinks)"
   ]
  },
  {
   "cell_type": "markdown",
   "id": "f23b5ad6",
   "metadata": {},
   "source": [
    "# Tuples:"
   ]
  },
  {
   "cell_type": "code",
   "execution_count": 71,
   "id": "49b418b9",
   "metadata": {},
   "outputs": [
    {
     "name": "stdout",
     "output_type": "stream",
     "text": [
      "2 4 9\n",
      "spaghetti milk chips\n"
     ]
    }
   ],
   "source": [
    "co_ordinates = (2, 4, 9)\n",
    "x, y, z = co_ordinates\n",
    "print(x, y, z)\n",
    "\n",
    "food, drink, snack = ('spaghetti', 'milk', 'chips')\n",
    "print(food, drink, snack)\n",
    "                      "
   ]
  },
  {
   "cell_type": "markdown",
   "id": "e65a1d59",
   "metadata": {},
   "source": [
    "# Sets:"
   ]
  },
  {
   "cell_type": "code",
   "execution_count": 73,
   "id": "e5745d24",
   "metadata": {},
   "outputs": [
    {
     "name": "stdout",
     "output_type": "stream",
     "text": [
      "{1, 4, 6, 7, 8, 9}\n"
     ]
    }
   ],
   "source": [
    "duplicate_numbers = {1, 1, 1, 4, 4, 4, 4, 6, 6, 7, 8, 8, 9, 9}\n",
    "unique_numbers = set(duplicate_numbers)\n",
    "print(unique_numbers)"
   ]
  },
  {
   "cell_type": "code",
   "execution_count": 74,
   "id": "38ac9d38",
   "metadata": {},
   "outputs": [
    {
     "name": "stdout",
     "output_type": "stream",
     "text": [
      "{1, 4, 6, 7, 8, 9, 10}\n"
     ]
    }
   ],
   "source": [
    "unique_numbers.add(10)\n",
    "print(unique_numbers)"
   ]
  },
  {
   "cell_type": "code",
   "execution_count": 75,
   "id": "94372bed",
   "metadata": {},
   "outputs": [
    {
     "name": "stdout",
     "output_type": "stream",
     "text": [
      "{1, 4, 6, 7, 8, 9, 10}\n"
     ]
    }
   ],
   "source": [
    "unique_numbers.add(1)\n",
    "print(unique_numbers)"
   ]
  },
  {
   "cell_type": "markdown",
   "id": "3816742a",
   "metadata": {},
   "source": [
    "# Dictionaries:"
   ]
  },
  {
   "cell_type": "code",
   "execution_count": 77,
   "id": "db5cdbdb",
   "metadata": {},
   "outputs": [
    {
     "name": "stdout",
     "output_type": "stream",
     "text": [
      "1.25\n"
     ]
    }
   ],
   "source": [
    "inventory = {'bananas': 1.25, 'apples': 1.49, 'oranges': 1.69}\n",
    "print(inventory['bananas'])"
   ]
  },
  {
   "cell_type": "code",
   "execution_count": 78,
   "id": "7894bf90",
   "metadata": {},
   "outputs": [
    {
     "name": "stdout",
     "output_type": "stream",
     "text": [
      "{'bananas': 2.25, 'apples': 1.49, 'oranges': 1.69}\n"
     ]
    }
   ],
   "source": [
    "inventory['bananas'] = 2.25\n",
    "print(inventory)"
   ]
  },
  {
   "cell_type": "code",
   "execution_count": 79,
   "id": "d60871c4",
   "metadata": {},
   "outputs": [
    {
     "name": "stdout",
     "output_type": "stream",
     "text": [
      "2.25\n"
     ]
    }
   ],
   "source": [
    "bananas_price = inventory.get('bananas')\n",
    "print(bananas_price)"
   ]
  },
  {
   "cell_type": "code",
   "execution_count": 80,
   "id": "25903d1c",
   "metadata": {},
   "outputs": [
    {
     "name": "stdout",
     "output_type": "stream",
     "text": [
      "Doesn't exist\n"
     ]
    }
   ],
   "source": [
    "strawberries_price = inventory.get('strawberries', 'Doesn\\'t exist')\n",
    "print(strawberries_price)"
   ]
  },
  {
   "cell_type": "code",
   "execution_count": 81,
   "id": "0746a93c",
   "metadata": {},
   "outputs": [
    {
     "name": "stdout",
     "output_type": "stream",
     "text": [
      "False\n"
     ]
    }
   ],
   "source": [
    "print('mango' in inventory)"
   ]
  },
  {
   "cell_type": "markdown",
   "id": "6607fb64",
   "metadata": {},
   "source": [
    "# Compound Data Strucutres:"
   ]
  },
  {
   "cell_type": "code",
   "execution_count": 82,
   "id": "573d2746",
   "metadata": {},
   "outputs": [
    {
     "name": "stdout",
     "output_type": "stream",
     "text": [
      "{'price': 2.29, 'country of origin': 'India'}\n"
     ]
    }
   ],
   "source": [
    "groceries = {'apples': {'price': 1.69, 'country of origin': 'United Kingdom'},\n",
    "             'Mango': {'price': 2.29, 'country of origin': 'India'},\n",
    "             'Bananas': {'price': 2.59, 'country of origin': 'Guatamela'}}\n",
    "print(groceries['Mango'])"
   ]
  },
  {
   "cell_type": "code",
   "execution_count": 83,
   "id": "612c4f1c",
   "metadata": {},
   "outputs": [
    {
     "name": "stdout",
     "output_type": "stream",
     "text": [
      "India\n"
     ]
    }
   ],
   "source": [
    "print(groceries['Mango']['country of origin'])"
   ]
  },
  {
   "cell_type": "markdown",
   "id": "9565bd53",
   "metadata": {},
   "source": [
    "# Control Flow:"
   ]
  },
  {
   "cell_type": "code",
   "execution_count": 85,
   "id": "63820d05",
   "metadata": {},
   "outputs": [
    {
     "name": "stdout",
     "output_type": "stream",
     "text": [
      "Too expensive for the inventory\n"
     ]
    }
   ],
   "source": [
    "groceries = {'peaches': {'price': 1.99, 'country of origin': 'China'},\n",
    "             'Avacado': {'price': 2.49, 'country of origin': 'Mexico'},\n",
    "             'Grapes': {'price': 2.79, 'country of origin': 'Egypt'}}\n",
    "item, price, origin = 'beans', 3.49, 'Mexico'\n",
    "if item in groceries:\n",
    "    print('Item Found')\n",
    "    \n",
    "elif price > 2.99:\n",
    "    print('Too expensive for the inventory')\n",
    "    \n",
    "else:\n",
    "    print('Item Not found')\n",
    "    groceries.update({item: {'price': price, 'country of origin': origin}})\n",
    "    print('Updated the list with {} item its price is {} and orgin of country is {}'.format(item, groceries[item]['price'], groceries[item]['country of origin']))\n",
    "    "
   ]
  },
  {
   "cell_type": "markdown",
   "id": "2ec0999c",
   "metadata": {},
   "source": [
    "# Complex Comparisions:"
   ]
  },
  {
   "cell_type": "code",
   "execution_count": 86,
   "id": "6b06a0af",
   "metadata": {},
   "outputs": [],
   "source": [
    "reynolds_number = 10000\n",
    "\n",
    "if 2000 < reynolds_number < 10000:\n",
    "    print(\"flow is transitional\")"
   ]
  },
  {
   "cell_type": "code",
   "execution_count": 87,
   "id": "fbf744ae",
   "metadata": {},
   "outputs": [
    {
     "name": "stdout",
     "output_type": "stream",
     "text": [
      "flow is not transitional\n"
     ]
    }
   ],
   "source": [
    "if reynolds_number <= 2000 or reynolds_number >= 10000:\n",
    "    print(\"flow is not transitional\")"
   ]
  },
  {
   "cell_type": "markdown",
   "id": "69417528",
   "metadata": {},
   "source": [
    "# For Loops: "
   ]
  },
  {
   "cell_type": "code",
   "execution_count": 88,
   "id": "c97ed050",
   "metadata": {},
   "outputs": [
    {
     "name": "stdout",
     "output_type": "stream",
     "text": [
      "January\n",
      "February\n",
      "March\n"
     ]
    }
   ],
   "source": [
    "months = ['January', 'February', 'March']\n",
    "for month in months:\n",
    "    print(month)"
   ]
  },
  {
   "cell_type": "code",
   "execution_count": 89,
   "id": "71ce3550",
   "metadata": {},
   "outputs": [
    {
     "name": "stdout",
     "output_type": "stream",
     "text": [
      "0\n",
      "1\n",
      "2\n",
      "3\n",
      "4\n",
      "5\n",
      "6\n",
      "7\n",
      "8\n",
      "9\n",
      "10\n",
      "11\n",
      "12\n",
      "13\n",
      "14\n",
      "15\n",
      "16\n",
      "17\n",
      "18\n",
      "19\n",
      "20\n",
      "21\n",
      "22\n",
      "23\n",
      "24\n",
      "25\n",
      "26\n",
      "27\n",
      "28\n",
      "29\n",
      "30\n",
      "31\n",
      "32\n",
      "33\n",
      "34\n",
      "35\n",
      "36\n",
      "37\n",
      "38\n",
      "39\n",
      "40\n",
      "41\n",
      "42\n",
      "43\n",
      "44\n",
      "45\n",
      "46\n",
      "47\n",
      "48\n",
      "49\n",
      "50\n",
      "51\n",
      "52\n",
      "53\n",
      "54\n",
      "55\n",
      "56\n",
      "57\n",
      "58\n",
      "59\n",
      "60\n",
      "61\n",
      "62\n",
      "63\n",
      "64\n",
      "65\n",
      "66\n",
      "67\n",
      "68\n",
      "69\n",
      "70\n",
      "71\n",
      "72\n",
      "73\n",
      "74\n",
      "75\n",
      "76\n",
      "77\n",
      "78\n",
      "79\n",
      "80\n",
      "81\n",
      "82\n",
      "83\n",
      "84\n",
      "85\n",
      "86\n",
      "87\n",
      "88\n",
      "89\n",
      "90\n",
      "91\n",
      "92\n",
      "93\n",
      "94\n",
      "95\n",
      "96\n",
      "97\n",
      "98\n",
      "99\n"
     ]
    }
   ],
   "source": [
    "for num in range(100):\n",
    "    print(num)"
   ]
  },
  {
   "cell_type": "code",
   "execution_count": 2,
   "id": "87058152",
   "metadata": {},
   "outputs": [
    {
     "name": "stdout",
     "output_type": "stream",
     "text": [
      "Titanic 1997\n",
      "Finding Nemo 2003\n"
     ]
    }
   ],
   "source": [
    "movies = {'Titanic': 1997, 'Finding Nemo': 2003}\n",
    "for key, value in movies.items():\n",
    "    print(key, value)"
   ]
  },
  {
   "cell_type": "markdown",
   "id": "2a749afc",
   "metadata": {},
   "source": [
    "# While Loop:"
   ]
  },
  {
   "cell_type": "code",
   "execution_count": 4,
   "id": "b47f33b7",
   "metadata": {},
   "outputs": [
    {
     "name": "stdout",
     "output_type": "stream",
     "text": [
      "20\n",
      "21\n",
      "22\n",
      "23\n",
      "24\n",
      "25\n",
      "26\n",
      "27\n",
      "28\n",
      "29\n",
      "30\n"
     ]
    }
   ],
   "source": [
    "random_number = 20\n",
    "while random_number <= 30:\n",
    "    print(random_number)\n",
    "    random_number += 1\n",
    "    \n"
   ]
  },
  {
   "cell_type": "code",
   "execution_count": 6,
   "id": "96b9285f",
   "metadata": {},
   "outputs": [
    {
     "name": "stdout",
     "output_type": "stream",
     "text": [
      "[0, 1, 2, 3, 4, 5, 6, 7, 8, 9]\n",
      "0\n",
      "2\n",
      "4\n",
      "6\n",
      "8\n"
     ]
    }
   ],
   "source": [
    "numbers = list(range(10))\n",
    "print(numbers)\n",
    "\n",
    "for number in numbers:\n",
    "    if number % 2 != 0:\n",
    "        continue\n",
    "    else:\n",
    "        print(number)"
   ]
  },
  {
   "cell_type": "markdown",
   "id": "96a05e4b",
   "metadata": {},
   "source": [
    "# Functions:"
   ]
  },
  {
   "cell_type": "code",
   "execution_count": 7,
   "id": "65d443dc",
   "metadata": {},
   "outputs": [],
   "source": [
    "def rectangle_area(length, width):\n",
    "    return length*width\n"
   ]
  },
  {
   "cell_type": "code",
   "execution_count": 8,
   "id": "f1750784",
   "metadata": {},
   "outputs": [
    {
     "name": "stdout",
     "output_type": "stream",
     "text": [
      "20\n"
     ]
    }
   ],
   "source": [
    "print(rectangle_area(10,2))"
   ]
  },
  {
   "cell_type": "markdown",
   "id": "cc9b56d0",
   "metadata": {},
   "source": [
    "# Lambda and higher order Functions:"
   ]
  },
  {
   "cell_type": "code",
   "execution_count": 12,
   "id": "ec307717",
   "metadata": {},
   "outputs": [
    {
     "name": "stdout",
     "output_type": "stream",
     "text": [
      "[2, 4]\n"
     ]
    }
   ],
   "source": [
    "numbers = [1, 2, 3, 4, 5]\n",
    "def even_or_odd(number):\n",
    "    return number%2 == 0\n",
    "\n",
    "print(list(filter(even_or_odd, numbers)))"
   ]
  },
  {
   "cell_type": "code",
   "execution_count": 14,
   "id": "ca9f7577",
   "metadata": {},
   "outputs": [
    {
     "name": "stdout",
     "output_type": "stream",
     "text": [
      "[2, 4]\n"
     ]
    }
   ],
   "source": [
    "print(list(filter(lambda number:number % 2 == 0, numbers)))"
   ]
  }
 ],
 "metadata": {
  "kernelspec": {
   "display_name": "Python 3 (ipykernel)",
   "language": "python",
   "name": "python3"
  },
  "language_info": {
   "codemirror_mode": {
    "name": "ipython",
    "version": 3
   },
   "file_extension": ".py",
   "mimetype": "text/x-python",
   "name": "python",
   "nbconvert_exporter": "python",
   "pygments_lexer": "ipython3",
   "version": "3.9.10"
  }
 },
 "nbformat": 4,
 "nbformat_minor": 5
}
